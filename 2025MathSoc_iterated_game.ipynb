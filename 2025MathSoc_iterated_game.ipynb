{
 "cells": [
  {
   "cell_type": "markdown",
   "metadata": {},
   "source": [
    "# 2x2繰り返しゲーム\n",
    "## 2025KGSOC数理社会学ノート（5章）\n",
    "石田淳（aishida@kwansei.ac.jp）"
   ]
  },
  {
   "cell_type": "markdown",
   "metadata": {},
   "source": [
    "繰り返しゲームをPythonプログラムで再現する．必要なライブラリを読み込んでおく．"
   ]
  },
  {
   "cell_type": "code",
   "execution_count": 1,
   "metadata": {},
   "outputs": [
    {
     "name": "stderr",
     "output_type": "stream",
     "text": [
      "Matplotlib is building the font cache; this may take a moment.\n"
     ]
    }
   ],
   "source": [
    "import numpy as np\n",
    "import matplotlib.pyplot as plt\n",
    "import random"
   ]
  },
  {
   "cell_type": "markdown",
   "metadata": {},
   "source": [
    "まず最初に利得行列を定義する．"
   ]
  },
  {
   "cell_type": "code",
   "execution_count": 2,
   "metadata": {},
   "outputs": [],
   "source": [
    "# payoff matrix\n",
    "R = 3 #CC\n",
    "S = 0 #CD\n",
    "T = 5 #DC\n",
    "P = 1 #DD"
   ]
  },
  {
   "cell_type": "markdown",
   "metadata": {},
   "source": [
    "戦略をグローバル関数として定義する．自分と相手の履歴を引数にして，自分の履歴に1（協力）を加えるか0（非協力）を加えるかを判定する．"
   ]
  },
  {
   "cell_type": "code",
   "execution_count": 3,
   "metadata": {},
   "outputs": [],
   "source": [
    "# strategy function as global functions\n",
    "def TFT(selfhist, otherhist):\n",
    "    if selfhist == []:\n",
    "        selfhist.append(1)\n",
    "    elif otherhist[len(selfhist)-1] == 1:\n",
    "        selfhist.append(1)\n",
    "    elif otherhist[len(selfhist)-1] == 0:\n",
    "        selfhist.append(0)\n",
    "\n",
    "def TRIGGER(selfhist, otherhist):\n",
    "    if selfhist == []:\n",
    "        selfhist.append(1)\n",
    "    elif len(otherhist) != sum(otherhist):\n",
    "        selfhist.append(0)\n",
    "    else:\n",
    "        selfhist.append(1)\n",
    "\n",
    "def ALLC(selfhist, otherhist):\n",
    "    selfhist.append(1)\n",
    "\n",
    "def ALLD(selfhist, otherhist):\n",
    "    selfhist.append(0)\n",
    "\n",
    "def RAND(selfhist, otherhist):\n",
    "    selfhist.append(random.choice([0,1]))"
   ]
  },
  {
   "cell_type": "markdown",
   "metadata": {},
   "source": [
    "結果に応じて，利得を割り当てる関数"
   ]
  },
  {
   "cell_type": "code",
   "execution_count": 4,
   "metadata": {},
   "outputs": [],
   "source": [
    "# payoff allocation function as a global function\n",
    "def payoff(xhist, yhist, xpayoffhist, ypayoffhist):\n",
    "    x = xhist[len(xhist)-1]\n",
    "    y = yhist[len(yhist)-1]\n",
    "    if x == 1 and y == 1:\n",
    "        xpayoffhist.append(R)\n",
    "        ypayoffhist.append(R)\n",
    "    elif x == 1 and y == 0:\n",
    "        xpayoffhist.append(S)\n",
    "        ypayoffhist.append(T)\n",
    "    elif x == 0 and y == 1:\n",
    "        xpayoffhist.append(T)\n",
    "        ypayoffhist.append(S)\n",
    "    elif x == 0 and y == 0:\n",
    "        xpayoffhist.append(P)\n",
    "        ypayoffhist.append(P)"
   ]
  },
  {
   "cell_type": "markdown",
   "metadata": {},
   "source": [
    "プレイヤーのクラスを定義．クラスとはオブジェクトとオブジェクトのメソッドを定める命令である．\n",
    "プレイヤークラスは初期値として戦略を渡され，相手の履歴を受け取って自らの戦略と履歴に応じて反応する関数を持つ．"
   ]
  },
  {
   "cell_type": "code",
   "execution_count": null,
   "metadata": {},
   "outputs": [],
   "source": [
    "# player class\n",
    "class player:\n",
    "    def __init__(self, strategy):\n",
    "        self.gamehist = []\n",
    "        self.payoffhist = []\n",
    "        self.strategy = strategy\n",
    "\n",
    "    def response(self, otherhist):\n",
    "        self.strategy(self.gamehist, otherhist)"
   ]
  },
  {
   "cell_type": "markdown",
   "metadata": {},
   "source": [
    "プレイヤークラスのインスタンスを作成する．インスタンスとは実際に動かすクラスオブジェクトである．"
   ]
  },
  {
   "cell_type": "code",
   "execution_count": 6,
   "metadata": {
    "tags": []
   },
   "outputs": [],
   "source": [
    "# creating instances of a player class\n",
    "P1 = player(TFT)\n",
    "P2 = player(RAND)"
   ]
  },
  {
   "cell_type": "markdown",
   "metadata": {},
   "source": [
    "100回対戦する．それぞれのプレイヤーが相手の履歴を受け取り戦略に応じて反応する．その後結果に応じて利得を配分する．これを`for`文で繰り返す．"
   ]
  },
  {
   "cell_type": "code",
   "execution_count": 7,
   "metadata": {},
   "outputs": [],
   "source": [
    "times = 100\n",
    "for t in range(times):\n",
    "    P1.response(P2.gamehist)\n",
    "    P2.response(P1.gamehist)\n",
    "    payoff(P1.gamehist, P2.gamehist, P1.payoffhist, P2.payoffhist)"
   ]
  },
  {
   "cell_type": "code",
   "execution_count": 8,
   "metadata": {
    "tags": []
   },
   "outputs": [
    {
     "name": "stdout",
     "output_type": "stream",
     "text": [
      "--------- for P1 ---------\n",
      "corpration rate =  0.43\n",
      "sum of payoff =  216\n",
      "--------- for P2 ---------\n",
      "corpration rate =  0.43\n",
      "sum of payoff =  216\n"
     ]
    }
   ],
   "source": [
    "print(\"--------- for P1 ---------\")\n",
    "print(\"corpration rate = \", sum(P1.gamehist) / len(P1.gamehist))\n",
    "print(\"sum of payoff = \", sum(P1.payoffhist))\n",
    "print(\"--------- for P2 ---------\")\n",
    "print(\"corpration rate = \", sum(P2.gamehist) / len(P2.gamehist))\n",
    "print(\"sum of payoff = \", sum(P2.payoffhist))"
   ]
  },
  {
   "cell_type": "code",
   "execution_count": 9,
   "metadata": {},
   "outputs": [
    {
     "data": {
      "image/png": "[encoded data removed]",
      "text/plain": [
       "<Figure size 640x480 with 1 Axes>"
      ]
     },
     "metadata": {},
     "output_type": "display_data"
    }
   ],
   "source": [
    "# cumulative summation of payoff (need numpy)\n",
    "plt.plot(np.array(P1.payoffhist).cumsum(), label=str(P1.strategy.__name__))\n",
    "plt.plot(np.array(P2.payoffhist).cumsum(), label=str(P2.strategy.__name__))\n",
    "plt.legend();"
   ]
  },
  {
   "cell_type": "markdown",
   "metadata": {},
   "source": [
    "いろいろ対戦してみよう．また，自分で戦略を組んで試してみよう．"
   ]
  }
 ],
 "metadata": {
  "kernelspec": {
   "display_name": "2025MathSoc",
   "language": "python",
   "name": "python3"
  },
  "language_info": {
   "codemirror_mode": {
    "name": "ipython",
    "version": 3
   },
   "file_extension": ".py",
   "mimetype": "text/x-python",
   "name": "python",
   "nbconvert_exporter": "python",
   "pygments_lexer": "ipython3",
   "version": "3.11.11"
  }
 },
 "nbformat": 4,
 "nbformat_minor": 4
}
